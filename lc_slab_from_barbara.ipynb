{
 "cells": [
  {
   "cell_type": "code",
   "execution_count": 1,
   "metadata": {
    "collapsed": true
   },
   "outputs": [],
   "source": [
    "%matplotlib inline"
   ]
  },
  {
   "cell_type": "code",
   "execution_count": 2,
   "metadata": {},
   "outputs": [
    {
     "name": "stderr",
     "output_type": "stream",
     "text": [
      "/home/julia/workspace/conda/anaconda3/lib/python3.6/site-packages/h5py/__init__.py:34: FutureWarning: Conversion of the second argument of issubdtype from `float` to `np.floating` is deprecated. In future, it will be treated as `np.float64 == np.dtype(float).type`.\n",
      "  from ._conv import register_converters as _register_converters\n"
     ]
    }
   ],
   "source": [
    "import os\n",
    "import numpy as np\n",
    "import nibabel as nb\n",
    "import matplotlib.pyplot as plt\n",
    "import numpy as np\n",
    "from ipywidgets import widgets, Layout\n",
    "from IPython.display import display\n",
    "from nipype.interfaces.nipy import SpaceTimeRealigner, ComputeMask\n",
    "from nipype.interfaces.fsl import BET, MeanImage, ApplyMask, SwapDimensions\n",
    "from nipype.interfaces.afni import SkullStrip, Automask\n",
    "import seaborn as sns\n",
    "from nipype.interfaces.ants import N4BiasFieldCorrection, Registration\n",
    "from pca_utils import pca_denoising"
   ]
  },
  {
   "cell_type": "code",
   "execution_count": 3,
   "metadata": {
    "collapsed": true
   },
   "outputs": [],
   "source": [
    "in_dir = '/home/julia/projects/lc/from_barbara/'\n",
    "out_dir = '/home/julia/projects/lc/from_barbara/'\n",
    "slab_file = in_dir + 'BCLCmice3_19.nii.gz'\n",
    "slab_data = nb.load(slab_file).get_data()\n",
    "slab_aff = nb.load(slab_file).affine\n",
    "slab_hdr = nb.load(slab_file).header"
   ]
  },
  {
   "cell_type": "code",
   "execution_count": 5,
   "metadata": {},
   "outputs": [],
   "source": [
    "if not os.path.isdir(out_dir+'single_vols'):\n",
    "    os.mkdir(out_dir+'single_vols')"
   ]
  },
  {
   "cell_type": "code",
   "execution_count": 7,
   "metadata": {},
   "outputs": [],
   "source": [
    "for i in range(slab_data.shape[3]):\n",
    "    nb.save(nb.Nifti1Image(slab_data[:,:,:,i], slab_aff, slab_hdr),\n",
    "            out_dir + 'single_vols/slab_vol%s.nii.gz'%i)\n",
    "    n4 = N4BiasFieldCorrection(input_image=out_dir + 'single_vols/slab_vol%s.nii.gz'%i, dimension=3,\n",
    "                               n_iterations=[100,100,100,100], convergence_threshold=0.0,\n",
    "                               output_image= out_dir + 'single_vols/slab_vol%s_corrected.nii.gz'%i)\n",
    "    n4.run()"
   ]
  },
  {
   "cell_type": "code",
   "execution_count": 8,
   "metadata": {
    "collapsed": true
   },
   "outputs": [],
   "source": [
    "corrected_data = []\n",
    "for i in range(slab_data.shape[3]):\n",
    "    corrected_data.append(nb.load(out_dir + 'single_vols/slab_vol%s_corrected.nii.gz'%i).get_data())\n",
    "\n",
    "nb.save(nb.Nifti1Image(np.average(corrected_data[:], axis=0), slab_aff, slab_hdr),\n",
    "        out_dir + 'slab_avg_corrected.nii.gz')"
   ]
  },
  {
   "cell_type": "code",
   "execution_count": null,
   "metadata": {
    "collapsed": true
   },
   "outputs": [],
   "source": []
  }
 ],
 "metadata": {
  "kernelspec": {
   "display_name": "Python 3",
   "language": "python",
   "name": "python3"
  },
  "language_info": {
   "codemirror_mode": {
    "name": "ipython",
    "version": 3
   },
   "file_extension": ".py",
   "mimetype": "text/x-python",
   "name": "python",
   "nbconvert_exporter": "python",
   "pygments_lexer": "ipython3",
   "version": "3.6.8"
  }
 },
 "nbformat": 4,
 "nbformat_minor": 2
}
