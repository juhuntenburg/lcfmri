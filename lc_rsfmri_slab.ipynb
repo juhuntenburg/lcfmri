{
 "cells": [
  {
   "cell_type": "code",
   "execution_count": 1,
   "metadata": {
    "collapsed": true
   },
   "outputs": [],
   "source": [
    "%matplotlib inline"
   ]
  },
  {
   "cell_type": "code",
   "execution_count": 2,
   "metadata": {
    "collapsed": true
   },
   "outputs": [],
   "source": [
    "import os\n",
    "import numpy as np\n",
    "import nibabel as nb\n",
    "import matplotlib.pyplot as plt\n",
    "import numpy as np\n",
    "from ipywidgets import widgets, Layout\n",
    "from IPython.display import display\n",
    "from nipype.interfaces.nipy import SpaceTimeRealigner, ComputeMask\n",
    "from nipype.interfaces.fsl import BET, MeanImage, ApplyMask, SwapDimensions\n",
    "from nipype.interfaces.afni import SkullStrip, Automask\n",
    "import seaborn as sns\n",
    "from nipype.interfaces.ants import N4BiasFieldCorrection, Registration\n",
    "from pca_utils import pca_denoising"
   ]
  },
  {
   "cell_type": "code",
   "execution_count": 3,
   "metadata": {
    "collapsed": true
   },
   "outputs": [],
   "source": [
    "in_dir = '/home/julia/projects/lc/20181006_165517_JH_LC_rsfMRI_03_1_1_nifti/JHLCrsfMRI/'\n",
    "out_dir = '/home/julia/projects/lc/JH_LC_rsfMRI_03_analysis/'\n",
    "wholebrain_file = out_dir + 'struct/struct_masked.nii.gz'\n",
    "slab_file = in_dir + 'JHLCrsfMRI_24/JHLCrsfMRI_24.nii.gz'\n",
    "slab_data = nb.load(slab_file).get_data()\n",
    "slab_aff = nb.load(slab_file).affine\n",
    "slab_hdr = nb.load(slab_file).header"
   ]
  },
  {
   "cell_type": "code",
   "execution_count": 6,
   "metadata": {
    "collapsed": true
   },
   "outputs": [],
   "source": [
    "if not os.path.isdir(out_dir+'struct/single_vols'):\n",
    "    if not os.path.isdir(out_dir+'struct/'):\n",
    "        if not os.path.isdir(out_dir):\n",
    "            os.mkdir(out_dir)\n",
    "        os.mkdir(out_dir+'struct/')\n",
    "    os.mkdir(out_dir+'struct/single_vols')"
   ]
  },
  {
   "cell_type": "markdown",
   "metadata": {},
   "source": [
    "### Structural data: denoising, bias field correction, average, mask"
   ]
  },
  {
   "cell_type": "code",
   "execution_count": 9,
   "metadata": {
    "collapsed": true
   },
   "outputs": [],
   "source": [
    "mp_slab_data, mp_slab_sigmas, mp_slab_components = pca_denoising(slab_data)\n",
    "nb.save(nb.Nifti1Image(mp_slab_data, slab_aff, slab_hdr), out_dir+'struct/slab_mp_data.nii.gz')\n",
    "nb.save(nb.Nifti1Image(mp_slab_sigmas, slab_aff, slab_hdr), out_dir+'struct/slab_mp_sigmas.nii.gz')\n",
    "nb.save(nb.Nifti1Image(mp_slab_components, slab_aff, slab_hdr), out_dir+'struct/slab_mp_components.nii.gz')"
   ]
  },
  {
   "cell_type": "code",
   "execution_count": 12,
   "metadata": {},
   "outputs": [
    {
     "data": {
      "image/png": "[encoded data removed]",
      "text/plain": [
       "<matplotlib.figure.Figure at 0x7efd69fd18d0>"
      ]
     },
     "metadata": {},
     "output_type": "display_data"
    }
   ],
   "source": [
    "fig=plt.figure(figsize=(15,5))\n",
    "sns.kdeplot(mp_slab_data.flatten(), label='denoised')\n",
    "sns.kdeplot(slab_data.flatten(), label='orig')\n",
    "plt.legend()\n",
    "sns.despine()"
   ]
  },
  {
   "cell_type": "code",
   "execution_count": 14,
   "metadata": {
    "collapsed": true
   },
   "outputs": [],
   "source": [
    "for i in range(mp_slab_data.shape[3]):\n",
    "    nb.save(nb.Nifti1Image(mp_slab_data[:,:,:,i], slab_aff, slab_hdr),\n",
    "            out_dir + 'struct/single_vols/slab_vol%s.nii.gz'%i)\n",
    "    n4 = N4BiasFieldCorrection(input_image=out_dir + 'struct/single_vols/slab_vol%s.nii.gz'%i, dimension=3,\n",
    "                               n_iterations=[100,100,100,100], convergence_threshold=0.0,\n",
    "                               output_image= out_dir + 'struct/single_vols/slab_vol%s_corrected.nii.gz'%i)\n",
    "    n4.run()"
   ]
  },
  {
   "cell_type": "code",
   "execution_count": 15,
   "metadata": {
    "collapsed": true
   },
   "outputs": [],
   "source": [
    "corrected_data = []\n",
    "for i in range(mp_slab_data.shape[3]):\n",
    "    corrected_data.append(nb.load(out_dir + 'struct/single_vols/slab_vol%s_corrected.nii.gz'%i).get_data())\n",
    "\n",
    "nb.save(nb.Nifti1Image(np.average(corrected_data[:], axis=0), slab_aff, slab_hdr),\n",
    "        out_dir + 'struct/slab_avg_corrected.nii.gz')"
   ]
  },
  {
   "cell_type": "raw",
   "metadata": {},
   "source": [
    "MIPAV Landmark reg"
   ]
  },
  {
   "cell_type": "code",
   "execution_count": 26,
   "metadata": {
    "collapsed": true
   },
   "outputs": [],
   "source": [
    "slab_lin = nb.load(out_dir + 'struct/slab2struct_landmark.nii.gz').get_data()\n",
    "slab_lin_aff = nb.load(out_dir + 'struct/slab2struct_landmark.nii.gz').affine\n",
    "slab_lin_hdr = nb.load(out_dir + 'struct/slab2struct_landmark.nii.gz').header\n",
    "slab_lin[np.where(slab_nonlin<628)]=0\n",
    "nb.save(nb.Nifti1Image(slab_lin, slab_lin_aff, slab_lin_hdr),\n",
    "        out_dir + 'struct/slab2struct_landmark_masked.nii.gz')"
   ]
  },
  {
   "cell_type": "raw",
   "metadata": {},
   "source": [
    "maskdil = nb.load(out_dir + 'struct/struct_mask_dil1.nii.gz').get_data()\n",
    "slab_trans = nb.load(out_dir + 'struct/slab2struct_landmark.nii.gz').get_data()\n",
    "slab_aff = nb.load(out_dir + 'struct/slab2struct_landmark.nii.gz').affine\n",
    "slab_hdr = nb.load(out_dir + 'struct/slab2struct_landmark.nii.gz').header\n",
    "nb.save(nb.Nifti1Image(slab_trans*maskdil, slab_aff, slab_hdr),\n",
    "        out_dir + 'struct/slab2struct_masked.nii.gz')"
   ]
  },
  {
   "cell_type": "raw",
   "metadata": {},
   "source": [
    "reg_struct = Registration(fixed_image = out_dir + 'struct/struct_masked.nii.gz',\n",
    "                          moving_image = out_dir + 'struct/slab2struct_masked.nii.gz',\n",
    "                          output_warped_image = out_dir + 'struct/slab2struct_nonlin.nii.gz',\n",
    "                          output_transform_prefix = out_dir + 'struct/slab2struct_nonlin_',\n",
    "                          dimension = 3,\n",
    "                          transforms = ['Rigid','Affine', 'SyN'], \n",
    "                          metric = ['GC', 'MI','MI'], \n",
    "                          transform_parameters = [(0.1,), (0.1,), (0.1, 2.0, 0.2)],\n",
    "                          metric_weight = [1, 1, 1],\n",
    "                          radius_or_number_of_bins = [64, 16, 16],\n",
    "                          sampling_percentage = [0.2, 0.3, 0.3],\n",
    "                          sampling_strategy = ['Regular', None, None],\n",
    "                          convergence_threshold = [1.e-16, 1.e-32, 1.e-8],\n",
    "                          convergence_window_size = [30, 30, 30],\n",
    "                          smoothing_sigmas = [[1, 0], [1, 0], [1, 0]], # reduces this a lot compared to SAMRI (4,2,1)\n",
    "                          sigma_units = ['vox', 'vox', 'vox'],\n",
    "                          shrink_factors = [[2, 1],[1, 1], [1, 1]],\n",
    "                          use_estimate_learning_rate_once = [True, True, True], # if the fixed_image is not acquired similarly to the moving_image (e.g. RARE to histological (e.g. AMBMC)) this should be False\n",
    "                          use_histogram_matching = [True, True, True],\n",
    "                          number_of_iterations = [[3000, 2000], [500, 250], [500, 250]],\n",
    "                          write_composite_transform = True,\n",
    "                          collapse_output_transforms = True,\n",
    "                          winsorize_lower_quantile = 0.005,\n",
    "                          winsorize_upper_quantile = 0.995,\n",
    "                          args = '--float',\n",
    "                          num_threads = 3,\n",
    "                          initial_moving_transform_com = True,\n",
    "                         )\n",
    "reg_struct.run()"
   ]
  },
  {
   "cell_type": "raw",
   "metadata": {
    "collapsed": true
   },
   "source": [
    "slab_nonlin = nb.load(out_dir + 'slab2struct_nonlin.nii.gz').get_data()\n",
    "slab_nonlin_aff = nb.load(out_dir + 'slab2struct_nonlin.nii.gz').affine\n",
    "slab_nonlin_hdr = nb.load(out_dir + 'slab2struct_nonlin.nii.gz').header\n",
    "slab_nonlin[np.where(slab_nonlin<628)]=0\n",
    "nb.save(nb.Nifti1Image(slab_nonlin, slab_nonlin_aff, slab_nonlin_hdr),\n",
    "        out_dir + 'struct/slab2struct_nonlin_masked.nii.gz')"
   ]
  },
  {
   "cell_type": "code",
   "execution_count": null,
   "metadata": {
    "collapsed": true
   },
   "outputs": [],
   "source": []
  }
 ],
 "metadata": {
  "kernelspec": {
   "display_name": "Python 3",
   "language": "python",
   "name": "python3"
  },
  "language_info": {
   "codemirror_mode": {
    "name": "ipython",
    "version": 3
   },
   "file_extension": ".py",
   "mimetype": "text/x-python",
   "name": "python",
   "nbconvert_exporter": "python",
   "pygments_lexer": "ipython3",
   "version": "3.6.8"
  }
 },
 "nbformat": 4,
 "nbformat_minor": 2
}
