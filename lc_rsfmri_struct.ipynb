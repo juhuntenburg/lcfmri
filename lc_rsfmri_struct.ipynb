{
 "cells": [
  {
   "cell_type": "code",
   "execution_count": 1,
   "metadata": {
    "collapsed": true
   },
   "outputs": [],
   "source": [
    "%matplotlib inline"
   ]
  },
  {
   "cell_type": "code",
   "execution_count": 2,
   "metadata": {
    "collapsed": true
   },
   "outputs": [],
   "source": [
    "import os\n",
    "import numpy as np\n",
    "import nibabel as nb\n",
    "import matplotlib.pyplot as plt\n",
    "import numpy as np\n",
    "from ipywidgets import widgets, Layout\n",
    "from IPython.display import display\n",
    "from nipype.interfaces.nipy import SpaceTimeRealigner, ComputeMask\n",
    "from nipype.interfaces.fsl import BET, MeanImage, ApplyMask, SwapDimensions\n",
    "from nipype.interfaces.afni import SkullStrip, Automask\n",
    "import seaborn as sns\n",
    "from nipype.interfaces.ants import N4BiasFieldCorrection, Registration\n",
    "from pca_utils import pca_denoising"
   ]
  },
  {
   "cell_type": "code",
   "execution_count": 6,
   "metadata": {
    "collapsed": true
   },
   "outputs": [],
   "source": [
    "in_dir = '/home/julia/projects/lc/20181006_165517_JH_LC_rsfMRI_03_1_1_nifti/JHLCrsfMRI/'\n",
    "out_dir = '/home/julia/projects/lc/JH_LC_rsfMRI_03_analysis/'\n",
    "struct_file = in_dir +  'JHLCrsfMRI_20/JHLCrsfMRI_20.nii.gz'\n",
    "struct_data = nb.load(struct_file).get_data()\n",
    "struct_affine = nb.load(struct_file).affine\n",
    "struct_header = nb.load(struct_file).header\n",
    "atlas_file = '/home/julia/projects/allen_brain/P56_Atlas_different.nii'\n",
    "#method_file = in_dir + 'JHLCrsfMRI_48/JHLCrsfMRI_48_method.npy'\n",
    "#par_file = in_dir +'JHLCrsfMRI_48/JHLCrsfMRI_48_visu_pars.npy'\n",
    "func_file =  in_dir + 'JHLCrsfMRI_23/JHLCrsfMRI_23.nii.gz'\n",
    "func_data = nb.load(func_file).get_data()\n",
    "func_affine = nb.load(func_file).affine\n",
    "func_header = nb.load(func_file).header\n",
    "#method = np.load(method_file)[()]\n",
    "#pars = np.load(par_file)[()]\n",
    "#TR = pars['VisuAcqRepetitionTime']"
   ]
  },
  {
   "cell_type": "code",
   "execution_count": 6,
   "metadata": {
    "collapsed": true
   },
   "outputs": [],
   "source": [
    "out_dir = '/home/julia/projects/lc/processed/LC_rsfMRI_07/'\n",
    "struct_file = out_dir +  '46.nii.gz'\n",
    "mp_struct_data = nb.load(struct_file).get_data()\n",
    "struct_affine = nb.load(struct_file).affine\n",
    "struct_header = nb.load(struct_file).header"
   ]
  },
  {
   "cell_type": "code",
   "execution_count": 4,
   "metadata": {
    "collapsed": true
   },
   "outputs": [],
   "source": [
    "if not os.path.isdir(out_dir+'struct/single_vols'):\n",
    "    if not os.path.isdir(out_dir+'struct/'):\n",
    "        if not os.path.isdir(out_dir):\n",
    "            os.mkdir(out_dir)\n",
    "        os.mkdir(out_dir+'struct/')\n",
    "    os.mkdir(out_dir+'struct/single_vols')"
   ]
  },
  {
   "cell_type": "markdown",
   "metadata": {},
   "source": [
    "### Structural data: denoising, bias field correction, average, mask"
   ]
  },
  {
   "cell_type": "code",
   "execution_count": 5,
   "metadata": {
    "collapsed": true
   },
   "outputs": [],
   "source": [
    "mp_struct_data, mp_struct_sigmas, mp_struct_components = pca_denoising(struct_data)\n",
    "nb.save(nb.Nifti1Image(mp_struct_data, struct_affine, struct_header), out_dir+'struct/struct_mp_data.nii.gz')\n",
    "nb.save(nb.Nifti1Image(mp_struct_sigmas, struct_affine, struct_header), out_dir+'struct/struct_mp_sigmas.nii.gz')\n",
    "nb.save(nb.Nifti1Image(mp_struct_components, struct_affine, struct_header), out_dir+'struct/struct_mp_components.nii.gz')"
   ]
  },
  {
   "cell_type": "code",
   "execution_count": null,
   "metadata": {
    "collapsed": true
   },
   "outputs": [],
   "source": [
    "fig=plt.figure(figsize=(15,5))\n",
    "sns.kdeplot(struct_data.flatten(), label='orig')\n",
    "sns.kdeplot(mp_struct_data.flatten(), label='denoised')\n",
    "plt.legend()\n",
    "sns.despine()"
   ]
  },
  {
   "cell_type": "code",
   "execution_count": 7,
   "metadata": {
    "collapsed": true
   },
   "outputs": [],
   "source": [
    "for i in range(mp_struct_data.shape[3]):\n",
    "    nb.save(nb.Nifti1Image(mp_struct_data[:,:,:,i], struct_affine, struct_header),\n",
    "            out_dir + 'struct/single_vols/struct_vol%s.nii.gz'%i)\n",
    "    n4 = N4BiasFieldCorrection(input_image=out_dir + 'struct/single_vols/struct_vol%s.nii.gz'%i, dimension=3,\n",
    "                               n_iterations=[100,100,100,100], convergence_threshold=0.0,\n",
    "                               output_image= out_dir + 'struct/single_vols/struct_vol%s_corrected.nii.gz'%i)\n",
    "    n4.run()"
   ]
  },
  {
   "cell_type": "code",
   "execution_count": 8,
   "metadata": {
    "collapsed": true
   },
   "outputs": [],
   "source": [
    "corrected_data = []\n",
    "for i in range(mp_struct_data.shape[3]):\n",
    "    corrected_data.append(nb.load(out_dir + 'struct/single_vols/struct_vol%s_corrected.nii.gz'%i).get_data())\n",
    "\n",
    "nb.save(nb.Nifti1Image(np.average(corrected_data[:], axis=0), struct_affine, struct_header),\n",
    "        out_dir + 'struct/struct_avg_corrected.nii.gz')"
   ]
  },
  {
   "cell_type": "code",
   "execution_count": 9,
   "metadata": {
    "collapsed": true
   },
   "outputs": [
    {
     "name": "stdout",
     "output_type": "stream",
     "text": [
      "181102-12:14:19,690 interface INFO:\n",
      "\t stderr 2018-11-02T12:14:19.690109:\u001b[7m*+ WARNING:\u001b[0m   If you are performing spatial transformations on an oblique dset, \n",
      "181102-12:14:19,691 interface INFO:\n",
      "\t stderr 2018-11-02T12:14:19.690109:  such as /home/julia/projects/lc/processed/LC_rsfMRI_07/struct/single_vols/struct_vol0_corrected.nii.gz,\n",
      "181102-12:14:19,692 interface INFO:\n",
      "\t stderr 2018-11-02T12:14:19.690109:  or viewing/combining it with volumes of differing obliquity,\n",
      "181102-12:14:19,695 interface INFO:\n",
      "\t stderr 2018-11-02T12:14:19.690109:  you should consider running: \n",
      "181102-12:14:19,696 interface INFO:\n",
      "\t stderr 2018-11-02T12:14:19.690109:     3dWarp -deoblique \n",
      "181102-12:14:19,698 interface INFO:\n",
      "\t stderr 2018-11-02T12:14:19.690109:  on this and  other oblique datasets in the same session.\n",
      "181102-12:14:19,700 interface INFO:\n",
      "\t stderr 2018-11-02T12:14:19.690109: See 3dWarp -help for details.\n",
      "181102-12:14:19,700 interface INFO:\n",
      "\t stderr 2018-11-02T12:14:19.690109:++ Oblique dataset:/home/julia/projects/lc/processed/LC_rsfMRI_07/struct/single_vols/struct_vol0_corrected.nii.gz is 2.072449 degrees from plumb.\n",
      "181102-12:14:19,747 interface INFO:\n",
      "\t stderr 2018-11-02T12:14:19.747137:oo     Warning 3dSkullStrip (/build/afni-16.2.07~dfsg.1/src/SUMA/SUMA_3dSkullStrip.c:1555):\n",
      "181102-12:14:19,747 interface INFO:\n",
      "\t stderr 2018-11-02T12:14:19.747137:Input dataset has a very low value range.\n",
      "181102-12:14:19,748 interface INFO:\n",
      "\t stderr 2018-11-02T12:14:19.747137:If stripping fails, repeat with option -fac 1000\n",
      "181102-12:15:15,683 interface INFO:\n",
      "\t stderr 2018-11-02T12:15:15.683178:3dSkullStrip: Pushing to Edge ...\n"
     ]
    },
    {
     "data": {
      "text/plain": [
       "<nipype.interfaces.base.support.InterfaceResult at 0x7f8e66389860>"
      ]
     },
     "execution_count": 9,
     "metadata": {},
     "output_type": "execute_result"
    }
   ],
   "source": [
    "skull = SkullStrip(in_file=out_dir + 'struct/single_vols/struct_vol0_corrected.nii.gz', \n",
    "                   out_file=out_dir + 'struct/struct_masked.nii.gz', outputtype='NIFTI_GZ',\n",
    "                   args='-rat -push_to_edge -orig_vol')\n",
    "\n",
    "skull.run()"
   ]
  },
  {
   "cell_type": "code",
   "execution_count": 11,
   "metadata": {},
   "outputs": [],
   "source": [
    "mask = nb.load(out_dir + 'struct/struct_masked.nii.gz').get_data()\n",
    "binmask = np.where(mask>0, 1, 0)\n",
    "\n",
    "struct_masked = nb.load(out_dir + 'struct/struct_avg_corrected.nii.gz').get_data() * binmask"
   ]
  },
  {
   "cell_type": "code",
   "execution_count": 12,
   "metadata": {
    "collapsed": true
   },
   "outputs": [],
   "source": [
    "nb.save(nb.Nifti1Image(binmask, struct_affine, struct_header),\n",
    "        out_dir + 'struct/struct_mask.nii.gz')\n",
    "\n",
    "nb.save(nb.Nifti1Image(struct_masked, struct_affine, struct_header),\n",
    "        out_dir + 'struct/struct_masked.nii.gz')"
   ]
  },
  {
   "cell_type": "code",
   "execution_count": 13,
   "metadata": {
    "collapsed": true
   },
   "outputs": [],
   "source": [
    "weighted_data = []\n",
    "for d in range(len(corrected_data)):\n",
    "    weighted_data.append(corrected_data[d]*np.square(d+1))\n",
    "nb.save(nb.Nifti1Image(np.average(weighted_data[:], axis=0)*binmask, struct_affine, struct_header),\n",
    "    out_dir + 'struct/struct_weighted_avg_masked.nii.gz')"
   ]
  },
  {
   "cell_type": "code",
   "execution_count": 57,
   "metadata": {},
   "outputs": [
    {
     "data": {
      "text/plain": [
       "<nipype.interfaces.base.support.InterfaceResult at 0x7fb1a37d25c0>"
      ]
     },
     "execution_count": 57,
     "metadata": {},
     "output_type": "execute_result"
    }
   ],
   "source": [
    "reg_struct = Registration(fixed_image = atlas_file,\n",
    "                          moving_image = out_dir + 'struct/struct_masked.nii.gz',\n",
    "                          output_warped_image = out_dir + 'struct/struct2atlas_lin.nii.gz',\n",
    "                          output_transform_prefix = out_dir + 'struct/struct2atlas_lin_',\n",
    "                          dimension = 3,\n",
    "                          transforms = ['Rigid'], \n",
    "                          metric = ['GC'], \n",
    "                          transform_parameters = [(0.1,)],\n",
    "                          metric_weight = [1],\n",
    "                          radius_or_number_of_bins = [64],\n",
    "                          sampling_percentage = [0.2],\n",
    "                          sampling_strategy = ['Regular'],\n",
    "                          convergence_threshold = [1.e-16],\n",
    "                          convergence_window_size = [30],\n",
    "                          smoothing_sigmas = [[1, 0]], # reduces this a lot compared to SAMRI (4,2,1)\n",
    "                          sigma_units = ['vox'],\n",
    "                          shrink_factors = [[2, 1]],\n",
    "                          use_estimate_learning_rate_once = [False], # if the fixed_image is not acquired similarly to the moving_image (e.g. RARE to histological (e.g. AMBMC)) this should be False\n",
    "                          use_histogram_matching = [True],\n",
    "                          number_of_iterations = [[3000, 2000]],\n",
    "                          write_composite_transform = True,\n",
    "                          collapse_output_transforms = True,\n",
    "                          winsorize_lower_quantile = 0.005,\n",
    "                          winsorize_upper_quantile = 0.995,\n",
    "                          args = '--float',\n",
    "                          num_threads = 3,\n",
    "                          initial_moving_transform_com = True,\n",
    "                         )\n",
    "reg_struct.run()"
   ]
  },
  {
   "cell_type": "code",
   "execution_count": 56,
   "metadata": {},
   "outputs": [
    {
     "ename": "RuntimeError",
     "evalue": "Command:\nantsRegistration --float --collapse-output-transforms 1 --dimensionality 3 --initial-moving-transform [ /home/julia/projects/allen_brain/P56_Atlas_different.nii, /home/julia/projects/lc/JH_LC_rsfMRI_03_analysis/struct/struct_masked.nii.gz, 1 ] --initialize-transforms-per-stage 0 --interpolation Linear --output transform --transform Rigid[ 0.1 ] --metric GC[ /home/julia/projects/allen_brain/P56_Atlas_different.nii, /home/julia/projects/lc/JH_LC_rsfMRI_03_analysis/struct/struct_masked.nii.gz, 1, 64, Regular, 0.2 ] --convergence [ 3000x2000, 1e-16, 30 ] --smoothing-sigmas 1.0x0.0vox --shrink-factors 2x1 --use-estimate-learning-rate-once 0 --use-histogram-matching 1 --transform Affine[ 0.1 ] --metric MI[ /home/julia/projects/allen_brain/P56_Atlas_different.nii, /home/julia/projects/lc/JH_LC_rsfMRI_03_analysis/struct/struct_masked.nii.gz, 1, 16, None, 0.3 ] --convergence [ 500x250, 1e-32, 30 ] --smoothing-sigmas 1.0x0.0vox --shrink-factors 1x1 --use-estimate-learning-rate-once 0 --use-histogram-matching 1 --transform SyN[ 0.1, 2.0, 0.2 ] --metric MI[ /home/julia/projects/allen_brain/P56_Atlas_different.nii, /home/julia/projects/lc/JH_LC_rsfMRI_03_analysis/struct/struct_masked.nii.gz, 1, 16, None, 0.3 ] --convergence [ 500x250, 1e-08, 30 ] --smoothing-sigmas 1.0x0.0vox --shrink-factors 1x1 --use-estimate-learning-rate-once 0 --use-histogram-matching 1 --winsorize-image-intensities [ 0.005, 0.995 ]  --write-composite-transform 1\nStandard output:\n\nStandard error:\n\nReturn code: 1",
     "output_type": "error",
     "traceback": [
      "\u001b[0;31m---------------------------------------------------------------------------\u001b[0m",
      "\u001b[0;31mRuntimeError\u001b[0m                              Traceback (most recent call last)",
      "\u001b[0;32m<ipython-input-56-c490b4e9a36d>\u001b[0m in \u001b[0;36m<module>\u001b[0;34m()\u001b[0m\n\u001b[1;32m     26\u001b[0m                           \u001b[0minitial_moving_transform_com\u001b[0m \u001b[0;34m=\u001b[0m \u001b[0;32mTrue\u001b[0m\u001b[0;34m,\u001b[0m\u001b[0;34m\u001b[0m\u001b[0m\n\u001b[1;32m     27\u001b[0m                          )\n\u001b[0;32m---> 28\u001b[0;31m \u001b[0mreg_struct\u001b[0m\u001b[0;34m.\u001b[0m\u001b[0mrun\u001b[0m\u001b[0;34m(\u001b[0m\u001b[0;34m)\u001b[0m\u001b[0;34m\u001b[0m\u001b[0m\n\u001b[0m",
      "\u001b[0;32m~/workspace/conda/anaconda3/lib/python3.6/site-packages/nipype/interfaces/base/core.py\u001b[0m in \u001b[0;36mrun\u001b[0;34m(self, cwd, **inputs)\u001b[0m\n\u001b[1;32m    513\u001b[0m \u001b[0;34m\u001b[0m\u001b[0m\n\u001b[1;32m    514\u001b[0m         \u001b[0;32mtry\u001b[0m\u001b[0;34m:\u001b[0m\u001b[0;34m\u001b[0m\u001b[0m\n\u001b[0;32m--> 515\u001b[0;31m             \u001b[0mruntime\u001b[0m \u001b[0;34m=\u001b[0m \u001b[0mself\u001b[0m\u001b[0;34m.\u001b[0m\u001b[0m_run_interface\u001b[0m\u001b[0;34m(\u001b[0m\u001b[0mruntime\u001b[0m\u001b[0;34m)\u001b[0m\u001b[0;34m\u001b[0m\u001b[0m\n\u001b[0m\u001b[1;32m    516\u001b[0m             \u001b[0moutputs\u001b[0m \u001b[0;34m=\u001b[0m \u001b[0mself\u001b[0m\u001b[0;34m.\u001b[0m\u001b[0maggregate_outputs\u001b[0m\u001b[0;34m(\u001b[0m\u001b[0mruntime\u001b[0m\u001b[0;34m)\u001b[0m\u001b[0;34m\u001b[0m\u001b[0m\n\u001b[1;32m    517\u001b[0m         \u001b[0;32mexcept\u001b[0m \u001b[0mException\u001b[0m \u001b[0;32mas\u001b[0m \u001b[0me\u001b[0m\u001b[0;34m:\u001b[0m\u001b[0;34m\u001b[0m\u001b[0m\n",
      "\u001b[0;32m~/workspace/conda/anaconda3/lib/python3.6/site-packages/nipype/interfaces/ants/registration.py\u001b[0m in \u001b[0;36m_run_interface\u001b[0;34m(self, runtime, correct_return_codes)\u001b[0m\n\u001b[1;32m    946\u001b[0m \u001b[0;34m\u001b[0m\u001b[0m\n\u001b[1;32m    947\u001b[0m     \u001b[0;32mdef\u001b[0m \u001b[0m_run_interface\u001b[0m\u001b[0;34m(\u001b[0m\u001b[0mself\u001b[0m\u001b[0;34m,\u001b[0m \u001b[0mruntime\u001b[0m\u001b[0;34m,\u001b[0m \u001b[0mcorrect_return_codes\u001b[0m\u001b[0;34m=\u001b[0m\u001b[0;34m(\u001b[0m\u001b[0;36m0\u001b[0m\u001b[0;34m,\u001b[0m \u001b[0;34m)\u001b[0m\u001b[0;34m)\u001b[0m\u001b[0;34m:\u001b[0m\u001b[0;34m\u001b[0m\u001b[0m\n\u001b[0;32m--> 948\u001b[0;31m         \u001b[0mruntime\u001b[0m \u001b[0;34m=\u001b[0m \u001b[0msuper\u001b[0m\u001b[0;34m(\u001b[0m\u001b[0mRegistration\u001b[0m\u001b[0;34m,\u001b[0m \u001b[0mself\u001b[0m\u001b[0;34m)\u001b[0m\u001b[0;34m.\u001b[0m\u001b[0m_run_interface\u001b[0m\u001b[0;34m(\u001b[0m\u001b[0mruntime\u001b[0m\u001b[0;34m)\u001b[0m\u001b[0;34m\u001b[0m\u001b[0m\n\u001b[0m\u001b[1;32m    949\u001b[0m \u001b[0;34m\u001b[0m\u001b[0m\n\u001b[1;32m    950\u001b[0m         \u001b[0;31m# Parse some profiling info\u001b[0m\u001b[0;34m\u001b[0m\u001b[0;34m\u001b[0m\u001b[0m\n",
      "\u001b[0;32m~/workspace/conda/anaconda3/lib/python3.6/site-packages/nipype/interfaces/base/core.py\u001b[0m in \u001b[0;36m_run_interface\u001b[0;34m(self, runtime, correct_return_codes)\u001b[0m\n\u001b[1;32m   1020\u001b[0m         \u001b[0;32mif\u001b[0m \u001b[0mruntime\u001b[0m\u001b[0;34m.\u001b[0m\u001b[0mreturncode\u001b[0m \u001b[0;32mis\u001b[0m \u001b[0;32mNone\u001b[0m \u001b[0;32mor\u001b[0m\u001b[0;31m \u001b[0m\u001b[0;31m\\\u001b[0m\u001b[0;34m\u001b[0m\u001b[0m\n\u001b[1;32m   1021\u001b[0m                 \u001b[0mruntime\u001b[0m\u001b[0;34m.\u001b[0m\u001b[0mreturncode\u001b[0m \u001b[0;32mnot\u001b[0m \u001b[0;32min\u001b[0m \u001b[0mcorrect_return_codes\u001b[0m\u001b[0;34m:\u001b[0m\u001b[0;34m\u001b[0m\u001b[0m\n\u001b[0;32m-> 1022\u001b[0;31m             \u001b[0mself\u001b[0m\u001b[0;34m.\u001b[0m\u001b[0mraise_exception\u001b[0m\u001b[0;34m(\u001b[0m\u001b[0mruntime\u001b[0m\u001b[0;34m)\u001b[0m\u001b[0;34m\u001b[0m\u001b[0m\n\u001b[0m\u001b[1;32m   1023\u001b[0m \u001b[0;34m\u001b[0m\u001b[0m\n\u001b[1;32m   1024\u001b[0m         \u001b[0;32mreturn\u001b[0m \u001b[0mruntime\u001b[0m\u001b[0;34m\u001b[0m\u001b[0m\n",
      "\u001b[0;32m~/workspace/conda/anaconda3/lib/python3.6/site-packages/nipype/interfaces/base/core.py\u001b[0m in \u001b[0;36mraise_exception\u001b[0;34m(self, runtime)\u001b[0m\n\u001b[1;32m    957\u001b[0m             ('Command:\\n{cmdline}\\nStandard output:\\n{stdout}\\n'\n\u001b[1;32m    958\u001b[0m              \u001b[0;34m'Standard error:\\n{stderr}\\nReturn code: {returncode}'\u001b[0m\u001b[0;34m\u001b[0m\u001b[0m\n\u001b[0;32m--> 959\u001b[0;31m              ).format(**runtime.dictcopy()))\n\u001b[0m\u001b[1;32m    960\u001b[0m \u001b[0;34m\u001b[0m\u001b[0m\n\u001b[1;32m    961\u001b[0m     \u001b[0;32mdef\u001b[0m \u001b[0m_get_environ\u001b[0m\u001b[0;34m(\u001b[0m\u001b[0mself\u001b[0m\u001b[0;34m)\u001b[0m\u001b[0;34m:\u001b[0m\u001b[0;34m\u001b[0m\u001b[0m\n",
      "\u001b[0;31mRuntimeError\u001b[0m: Command:\nantsRegistration --float --collapse-output-transforms 1 --dimensionality 3 --initial-moving-transform [ /home/julia/projects/allen_brain/P56_Atlas_different.nii, /home/julia/projects/lc/JH_LC_rsfMRI_03_analysis/struct/struct_masked.nii.gz, 1 ] --initialize-transforms-per-stage 0 --interpolation Linear --output transform --transform Rigid[ 0.1 ] --metric GC[ /home/julia/projects/allen_brain/P56_Atlas_different.nii, /home/julia/projects/lc/JH_LC_rsfMRI_03_analysis/struct/struct_masked.nii.gz, 1, 64, Regular, 0.2 ] --convergence [ 3000x2000, 1e-16, 30 ] --smoothing-sigmas 1.0x0.0vox --shrink-factors 2x1 --use-estimate-learning-rate-once 0 --use-histogram-matching 1 --transform Affine[ 0.1 ] --metric MI[ /home/julia/projects/allen_brain/P56_Atlas_different.nii, /home/julia/projects/lc/JH_LC_rsfMRI_03_analysis/struct/struct_masked.nii.gz, 1, 16, None, 0.3 ] --convergence [ 500x250, 1e-32, 30 ] --smoothing-sigmas 1.0x0.0vox --shrink-factors 1x1 --use-estimate-learning-rate-once 0 --use-histogram-matching 1 --transform SyN[ 0.1, 2.0, 0.2 ] --metric MI[ /home/julia/projects/allen_brain/P56_Atlas_different.nii, /home/julia/projects/lc/JH_LC_rsfMRI_03_analysis/struct/struct_masked.nii.gz, 1, 16, None, 0.3 ] --convergence [ 500x250, 1e-08, 30 ] --smoothing-sigmas 1.0x0.0vox --shrink-factors 1x1 --use-estimate-learning-rate-once 0 --use-histogram-matching 1 --winsorize-image-intensities [ 0.005, 0.995 ]  --write-composite-transform 1\nStandard output:\n\nStandard error:\n\nReturn code: 1"
     ]
    }
   ],
   "source": [
    "reg_struct = Registration(fixed_image = atlas_file,\n",
    "                          moving_image = out_dir + 'struct/struct_masked.nii.gz',\n",
    "                          # in contrast to SAMRI included rigid step, CC for nonlinear, changed transform_parameters\n",
    "                          dimension = 3,\n",
    "                          transforms = ['Rigid','Affine', 'SyN'], \n",
    "                          metric = ['GC', 'MI','MI'], \n",
    "                          transform_parameters = [(0.1,), (0.1,), (0.1, 2.0, 0.2)],\n",
    "                          metric_weight = [1, 1, 1],\n",
    "                          radius_or_number_of_bins = [64, 16, 16],\n",
    "                          sampling_percentage = [0.2, 0.3, 0.3],\n",
    "                          sampling_strategy = ['Regular', None, None],\n",
    "                          convergence_threshold = [1.e-16, 1.e-32, 1.e-8],\n",
    "                          convergence_window_size = [30, 30, 30],\n",
    "                          smoothing_sigmas = [[1, 0], [1, 0], [1, 0]], # reduces this a lot compared to SAMRI (4,2,1)\n",
    "                          sigma_units = ['vox', 'vox', 'vox'],\n",
    "                          shrink_factors = [[2, 1],[1, 1], [1, 1]],\n",
    "                          use_estimate_learning_rate_once = [False, False, False], # if the fixed_image is not acquired similarly to the moving_image (e.g. RARE to histological (e.g. AMBMC)) this should be False\n",
    "                          use_histogram_matching = [True, True, True],\n",
    "                          number_of_iterations = [[3000, 2000], [500, 250], [500, 250]],\n",
    "                          write_composite_transform = True,\n",
    "                          collapse_output_transforms = True,\n",
    "                          winsorize_lower_quantile = 0.005,\n",
    "                          winsorize_upper_quantile = 0.995,\n",
    "                          args = '--float',\n",
    "                          num_threads = 3,\n",
    "                          initial_moving_transform_com = True,\n",
    "                         )\n",
    "reg_struct.run()"
   ]
  },
  {
   "cell_type": "code",
   "execution_count": null,
   "metadata": {
    "collapsed": true
   },
   "outputs": [],
   "source": []
  }
 ],
 "metadata": {
  "kernelspec": {
   "display_name": "Python 3",
   "language": "python",
   "name": "python3"
  },
  "language_info": {
   "codemirror_mode": {
    "name": "ipython",
    "version": 3
   },
   "file_extension": ".py",
   "mimetype": "text/x-python",
   "name": "python",
   "nbconvert_exporter": "python",
   "pygments_lexer": "ipython3",
   "version": "3.6.3"
  }
 },
 "nbformat": 4,
 "nbformat_minor": 2
}
